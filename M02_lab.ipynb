{
 "cells": [
  {
   "cell_type": "code",
   "execution_count": null,
   "id": "6ae7b1fd-97ff-4431-b423-aff05f4d670a",
   "metadata": {},
   "outputs": [
    {
     "name": "stdin",
     "output_type": "stream",
     "text": [
      "Enter the student's last name (or 'ZZZ' to quit):  Smith\n",
      "Enter the student's first name:  Paul\n",
      "Enter the student's GPA (include decimal point):  3.25\n"
     ]
    },
    {
     "name": "stdout",
     "output_type": "stream",
     "text": [
      "Paul Smith has made the Honor Roll.\n"
     ]
    },
    {
     "name": "stdin",
     "output_type": "stream",
     "text": [
      "Enter the student's last name (or 'ZZZ' to quit):  Clark\n",
      "Enter the student's first name:  Ian\n",
      "Enter the student's GPA (include decimal point):  3.5\n"
     ]
    },
    {
     "name": "stdout",
     "output_type": "stream",
     "text": [
      "Ian Clark has made the Dean's List.\n"
     ]
    }
   ],
   "source": [
    "# Created by: Preston Kannapel\n",
    "# File name: M02_lab\n",
    "# Description: An App made to determine if a student qualifies for the Dean's list, the Honor Roll, or neither based on their GPA\n",
    "def main():\n",
    "    while True:\n",
    "        # Ask for and accept a student's last name\n",
    "        last_name = input(\"Enter the student's last name (or 'ZZZ' to quit): \")\n",
    "        if last_name == 'ZZZ':\n",
    "            break  # Quit processing \n",
    "\n",
    "        # Ask for a student's first name\n",
    "        first_name = input(\"Enter the student's first name: \")\n",
    "\n",
    "        # Ask for the student's GPA\n",
    "        try:\n",
    "            gpa = float(input(\"Enter the student's GPA (include decimal point): \"))\n",
    "        except ValueError:\n",
    "            break\n",
    "\n",
    "        # Test Dean's List\n",
    "        if gpa >= 3.5:\n",
    "            print(f\"{first_name} {last_name} has made the Dean's List.\")\n",
    "        # Test Honor Roll\n",
    "        elif gpa >= 3.25:\n",
    "            print(f\"{first_name} {last_name} has made the Honor Roll.\")\n",
    "        else:\n",
    "            print(f\"{first_name} {last_name} does not qualify for the Dean's List or the Honor Roll.\")\n",
    "\n",
    "if __name__ == \"__main__\":\n",
    "    main()\n"
   ]
  }
 ],
 "metadata": {
  "kernelspec": {
   "display_name": "Python 3 (ipykernel)",
   "language": "python",
   "name": "python3"
  },
  "language_info": {
   "codemirror_mode": {
    "name": "ipython",
    "version": 3
   },
   "file_extension": ".py",
   "mimetype": "text/x-python",
   "name": "python",
   "nbconvert_exporter": "python",
   "pygments_lexer": "ipython3",
   "version": "3.11.7"
  }
 },
 "nbformat": 4,
 "nbformat_minor": 5
}
